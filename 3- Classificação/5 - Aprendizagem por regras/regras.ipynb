{
 "cells": [
  {
   "cell_type": "markdown",
   "metadata": {},
   "source": [
    "## **Aprendizagem por Regras**"
   ]
  },
  {
   "cell_type": "markdown",
   "metadata": {},
   "source": [
    "* Teoria sobre indução de regras: algoritmo OneR e PRISM\n",
    "* O algoritmo recebe a base de dados e gera/define algumas regras\n",
    "    * Exemplo de regra:\n",
    "    <br>\n",
    "    <br>\n",
    "\n",
    "    <div>\n",
    "        <img src=\"imagens/regras_ex.png\">\n",
    "    </div>"
   ]
  },
  {
   "cell_type": "markdown",
   "metadata": {},
   "source": [
    "## **Algoritmo OneR**"
   ]
  },
  {
   "cell_type": "markdown",
   "metadata": {},
   "source": [
    "* A ideia desse algoritmo é que `UM atributo` faz todo o trabalho\n",
    "    * Será feita uma análise para ver qual é o atributo mais importante e criaremos regras com base nesse atributo.\n",
    "* O algoritmo analisa a quantidade de erro para cada atributo. Neste exemplo, o atributo \"renda\" possuiu a menor quantidade de erro e por isso será escolhido para gerar as regras\n",
    "    <br><br>\n",
    "    <div>\n",
    "        <img src=\"imagens/oner.png\">\n",
    "    </div>"
   ]
  },
  {
   "cell_type": "markdown",
   "metadata": {},
   "source": [
    "## **Algoritmo PRISM**"
   ]
  },
  {
   "cell_type": "markdown",
   "metadata": {},
   "source": [
    "* A ideia desse algoritmo é analisar atributo por atributo e verificar qual deles tem maior abrengência quando analisamos uma das classes. Quando escolhido um atributo, este é usado na regra.\n",
    "    * Os atributos com maior abrangência serão os escolhidos"
   ]
  },
  {
   "cell_type": "markdown",
   "metadata": {},
   "source": [
    "## **Sobre Regras**\n",
    "\n",
    "* Em geral, regras não apresentam resultados melhores do que as árvores de decisão\n",
    "* Os algoritmos de regras também não são muito utilizados"
   ]
  },
  {
   "cell_type": "markdown",
   "metadata": {},
   "source": []
  }
 ],
 "metadata": {
  "language_info": {
   "name": "python"
  },
  "orig_nbformat": 4
 },
 "nbformat": 4,
 "nbformat_minor": 2
}
