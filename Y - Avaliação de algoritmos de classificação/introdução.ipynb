{
 "cells": [
  {
   "cell_type": "markdown",
   "metadata": {},
   "source": [
    "## **Avaliação de Algoritmos de Classificação**"
   ]
  },
  {
   "cell_type": "markdown",
   "metadata": {},
   "source": [
    "* Matriz de confusão\n",
    "* Verdadeiro positivo e falso positivo\n",
    "* Precision e recall\n",
    "* Overfitting e underfitting\n",
    "* Validação cruzada\n",
    "* Tuning de parâmetros\n",
    "* Como testar e avaliar os algoritmos\n",
    "* Avaliação dos algoritmos com ANOVA e Tukey"
   ]
  },
  {
   "cell_type": "markdown",
   "metadata": {},
   "source": [
    "## **Matriz de Confusão**"
   ]
  },
  {
   "cell_type": "markdown",
   "metadata": {},
   "source": [
    "* Auxilia na verificação dos erros e os acertos do algoritmo\n",
    "* O nome 'confusão' se refere a confusão que o classificador vai fazer em relação aos dados"
   ]
  },
  {
   "cell_type": "markdown",
   "metadata": {},
   "source": [
    "<div>\n",
    "    <img src='imagens/matriz_confusao2.png'>\n",
    "</div>\n",
    "\n",
    "* 40 registros que eram da classe 'on time' foram classificados de forma correta, porém 7 registro 'on time' foram classificados de forma incorreta como 'late' e 3 registros como 'very late'.\n",
    "* 73 acertos → 72% → 72% é bom? precisamos analisar o cenário/contexto\n",
    "* 28 erros → 28%\n",
    "* É possível avaliar quais classes estamos classificando melhor e pior\n",
    "\n",
    "<div>\n",
    "    <img src='imagens/matriz_confusao.png'>\n",
    "</div>\n",
    "\n",
    "* A matriz de confusão é formada a partir da base de teste"
   ]
  },
  {
   "cell_type": "markdown",
   "metadata": {},
   "source": [
    "## **Neurônio artificial**"
   ]
  },
  {
   "cell_type": "markdown",
   "metadata": {},
   "source": [
    "<div>\n",
    "    <img src='imagens/rn2.png'>\n",
    "</div>"
   ]
  },
  {
   "cell_type": "markdown",
   "metadata": {},
   "source": []
  }
 ],
 "metadata": {
  "kernelspec": {
   "display_name": "Python 3.10.5 64-bit (system)",
   "language": "python",
   "name": "python3"
  },
  "language_info": {
   "name": "python",
   "version": "3.10.5"
  },
  "orig_nbformat": 4,
  "vscode": {
   "interpreter": {
    "hash": "2765143a23a2248ffb34e679751b02069243b5cebfc1f82e19b1c6754ea52f07"
   }
  }
 },
 "nbformat": 4,
 "nbformat_minor": 2
}
