{
 "cells": [
  {
   "cell_type": "markdown",
   "metadata": {},
   "source": [
    "## **Redes Neurais**"
   ]
  },
  {
   "cell_type": "markdown",
   "metadata": {},
   "source": [
    "* 'Imita' o sistema nervoso de humanos no processo de aprendizagem\n",
    "* Inspirada em redes neurais biológicas, semelhante com a troca de informações entre os neurônios\n",
    "* Ideal para problemas complexos e com muitos dados\n",
    "* Com deep learning (aprendizagem profunda) as redes neurais ficaram populares"
   ]
  },
  {
   "cell_type": "code",
   "execution_count": null,
   "metadata": {},
   "outputs": [],
   "source": []
  }
 ],
 "metadata": {
  "language_info": {
   "name": "python"
  },
  "orig_nbformat": 4
 },
 "nbformat": 4,
 "nbformat_minor": 2
}
