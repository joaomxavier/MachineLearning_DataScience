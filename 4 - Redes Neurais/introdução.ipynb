{
 "cells": [
  {
   "cell_type": "markdown",
   "metadata": {},
   "source": [
    "## **Redes Neurais**"
   ]
  },
  {
   "cell_type": "markdown",
   "metadata": {},
   "source": [
    "* 'Imita' o sistema nervoso de humanos no processo de aprendizagem\n",
    "* Inspirada em redes neurais biológicas, semelhante com a troca de informações entre os neurônios\n",
    "* Ideal para problemas complexos e com muitos dados\n",
    "* Com deep learning (aprendizagem profunda) as redes neurais ficaram populares"
   ]
  },
  {
   "cell_type": "markdown",
   "metadata": {},
   "source": [
    "* É fornecido um valor de entrada, a rede processa e retorna uma resposta\n",
    "* O neurônio é ativado `somente se` o valor for `maior` que um limiar\n",
    "* Entrada → neurônios e axônios → Saída"
   ]
  },
  {
   "cell_type": "markdown",
   "metadata": {},
   "source": [
    "## **Neurônio**"
   ]
  },
  {
   "cell_type": "markdown",
   "metadata": {},
   "source": [
    "<div>\n",
    "    <img src='imagens/rn1.png'>\n",
    "</div>"
   ]
  },
  {
   "cell_type": "markdown",
   "metadata": {},
   "source": [
    "* Neurônios: o cérebro usa para processar informações\n",
    "* Axônio: transmite sinais (sinapses) de um neurônio para outro. Conecta os neurônios\n",
    "* Substâncias químicas são lançadas das sinapses e entram pelos dendritos, `aumentando ou baixando` o potencial elétrico do corpo da célula\n",
    "* O neurônio dispara se a entrada e maior que um número definido (liga ou não liga)"
   ]
  },
  {
   "cell_type": "markdown",
   "metadata": {},
   "source": [
    "## **Neurônio artificial**"
   ]
  },
  {
   "cell_type": "markdown",
   "metadata": {},
   "source": [
    "<div>\n",
    "    <img src='imagens/rn2.png'>\n",
    "</div>"
   ]
  },
  {
   "cell_type": "markdown",
   "metadata": {},
   "source": []
  }
 ],
 "metadata": {
  "language_info": {
   "name": "python"
  },
  "orig_nbformat": 4
 },
 "nbformat": 4,
 "nbformat_minor": 2
}
