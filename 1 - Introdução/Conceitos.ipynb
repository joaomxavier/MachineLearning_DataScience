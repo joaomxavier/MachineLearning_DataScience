{
 "cells": [
  {
   "cell_type": "markdown",
   "metadata": {},
   "source": [
    "## **Terminologia** \n"
   ]
  },
  {
   "cell_type": "markdown",
   "metadata": {},
   "source": [
    "* `Inteligência Artificial`\n",
    "- Área da ciência da computação responsável pelo desenvolvimento de sistemas que simulem a capacidade humana de resolver problemas"
   ]
  },
  {
   "cell_type": "markdown",
   "metadata": {},
   "source": [
    "* `Machine Learning`\n",
    "- Métodos matemáticos para treinar algoritmos"
   ]
  },
  {
   "cell_type": "markdown",
   "metadata": {},
   "source": [
    "* `Redes Neurais`\n",
    "- É um tipo de aprendizagem de máquina"
   ]
  },
  {
   "cell_type": "markdown",
   "metadata": {},
   "source": [
    "* `Deep Learning`\n",
    "- Muito mais dados e processadores mais potentes\n",
    "- Rede neurais com muitas camadas"
   ]
  },
  {
   "cell_type": "markdown",
   "metadata": {},
   "source": [
    "* `Big Data`\n",
    "- Imenso volume de dados"
   ]
  },
  {
   "cell_type": "markdown",
   "metadata": {},
   "source": [
    "* `Ciência de Dados`\n",
    "- Exploração e análise de dados\n",
    "- Ciência da computação + Estatística\n",
    "- Machine Learning"
   ]
  },
  {
   "cell_type": "markdown",
   "metadata": {},
   "source": [
    "## **Aprendizado de máquina** \n"
   ]
  },
  {
   "cell_type": "markdown",
   "metadata": {},
   "source": [
    "<table>\n",
    "  <tr>\n",
    "    <th>Métodos Preditivos</th>\n",
    "    <th>Métodos Descritivos</th>\n",
    "  </tr>\n",
    "  <tr>\n",
    "    <td>Classificação</td>\n",
    "    <td>Associação</td>\n",
    "  </tr>\n",
    "  <tr>\n",
    "    <td>Regressão</td>\n",
    "    <td>Agrupamento</td>\n",
    "  </tr>\n",
    "  <tr>\n",
    "    <td></td>\n",
    "    <td>Detecção de desvios</td>\n",
    "  </tr>\n",
    "  <tr>\n",
    "    <td></td>\n",
    "    <td>Padrões sequenciais</td>\n",
    "  </tr>\n",
    "  <tr>\n",
    "    <td></td>\n",
    "    <td>Sumarização</td>\n",
    "  </tr>\n",
    "</table>"
   ]
  },
  {
   "cell_type": "markdown",
   "metadata": {},
   "source": [
    "## **Métodos Preditivos** \n"
   ]
  },
  {
   "cell_type": "markdown",
   "metadata": {},
   "source": [
    "* `Classificação`\n",
    "- Define classificações para cada um dos registros. Trabalha com `rótulos`\n",
    "- Exemplo 1: Marketing direto → \"Você tem um novo produto. Quais os potenciais clientes que podem comprar o produto? Então faz uma classificação entre quem vai e quem não vai comprar o produto.\n",
    "- Exemplo 2: Insatisfação de clientes → \"Saber quais clientes estão satisfeitos, não satisfeitos e +- satisfeitos\"\n",
    "- Exemplo 3: Separação de notícias → \"Separar notícias em categorias\"\n",
    "- Exemplo 4: Predição de doenças → \"Com base nos dados do paciente, você pode saber se ele vai desenvolver uma determinada doença ou não\""
   ]
  },
  {
   "cell_type": "markdown",
   "metadata": {},
   "source": [
    "* `Regressão`\n",
    "- Faz predição de `valores numéricos`. \n",
    "- Exemplo 1: Baseado na temperatura, umidade e pressão do ar → Prever velocidade do vento.\n",
    "- Exemplo 2: Baseado em resultado do exame → Prever probabilidade do paciente sobreviver.\n",
    "- Exemplo 3: Baseado nos dados históricos → Prever quanto uma empresa vai ganhar de lucro.\n",
    "- Exemplo 4: Gastos no cartão de crédito e histórico → Prever limite do cartão."
   ]
  },
  {
   "cell_type": "markdown",
   "metadata": {},
   "source": [
    "<div>\n",
    "<img src=\"imagens/classificao_regressao.png\" height=400px>\n",
    "</div>"
   ]
  },
  {
   "cell_type": "markdown",
   "metadata": {},
   "source": [
    "## **Métodos Descritivos**"
   ]
  },
  {
   "cell_type": "markdown",
   "metadata": {},
   "source": [
    "* `Associação`\n",
    "- Encontrar elementos que implicam na presença de outros elementos em uma mesma transação, ou seja, encontrar relacionamentos ou padrões frequentes entre conjuntos de dados\n",
    "- Exemplo 1: Otimização de prateleiras de mercado\n",
    "- Exemplo 2: Promoção com itens que são vendidos em conjunto\n",
    "- Exemplo 3: Controle de evasão em universidade → se nota for x, renda for y e o curso for z, tem + chances de sair"
   ]
  },
  {
   "cell_type": "markdown",
   "metadata": {},
   "source": [
    "* `Agrupamento`\n",
    "- Analisar os dados e encontrar grupos\n",
    "- Exemplo 1: Mandar propaganda somente para pessoas certas\n",
    "- Exemplo 2: Agrupamento de documentos/notícias\n",
    "- Exemplo 3: Agrupamento de produtos similares\n",
    "- Exemplo 4: Perfis de clientes (Netflix)"
   ]
  },
  {
   "cell_type": "markdown",
   "metadata": {},
   "source": [
    "* `Detecção de Desvios (Outliers)`\n",
    "- \n",
    "- Exemplo 1: Fraude em cartão de crédito. Compra muito alta, saindo do padrão\n",
    "- Exemplo 2: Desempenho de atletas (doping)"
   ]
  },
  {
   "cell_type": "markdown",
   "metadata": {},
   "source": [
    "* `Descoberta de padrões sequenciais`\n",
    "- \n",
    "- Exemplo 1: Comprou livro do HP 1, então a loja vai recomendar os outros livros do HP (livro 2, 3, ...).\n",
    "- Exemplo 2: Marketing direcionado para pessoas que tem maiores chances de adquirir um novo produto\n",
    "- Exemplo 3: Navegação em sites → ver a sequência que os usuários estão acessando o site "
   ]
  },
  {
   "cell_type": "markdown",
   "metadata": {},
   "source": [
    "* `Sumarização`\n",
    "- \n",
    "- Exemplo 1: Traçar o perfil dos clientes que utilizam determinados serviços"
   ]
  },
  {
   "cell_type": "markdown",
   "metadata": {},
   "source": [
    "## **Tipos de Aprendizagem de Máquina**"
   ]
  },
  {
   "cell_type": "markdown",
   "metadata": {},
   "source": [
    "<table>\n",
    "  <tr>\n",
    "    <th>Supervisionada</th>\n",
    "    <th>Não Supervisionada</th>\n",
    "    <th>Reforço</th>\n",
    "  </tr>\n",
    "  <tr>\n",
    "    <td>Classificação</td>\n",
    "    <td>Associação</td>\n",
    "    <td></td>\n",
    "  </tr>\n",
    "  <tr>\n",
    "    <td>Regressão</td>\n",
    "    <td>Agrupamento</td>\n",
    "    <td></td>\n",
    "  </tr>\n",
    "  <tr>\n",
    "    <td></td>\n",
    "    <td>Detecção de desvios</td>\n",
    "    <td></td>\n",
    "  </tr>\n",
    "  <tr>\n",
    "    <td></td>\n",
    "    <td>Padrões sequenciais</td>\n",
    "    <td></td>\n",
    "  </tr>\n",
    "  <tr>\n",
    "    <td></td>\n",
    "    <td>Sumarização</td>\n",
    "    <td></td>\n",
    "  </tr>\n",
    "</table>"
   ]
  },
  {
   "cell_type": "markdown",
   "metadata": {},
   "source": [
    "* `Supervisionada`\n",
    "- Na aprendizagem supervisionada, o programa é treinado a partir do conhecimento de um supervisor e um conjunto de dados pré-definidos.\n",
    "- Consiste em aprender uma função que mapeia uma entrada para uma saída com base em pares de entrada-saída de exemplo\n",
    "- Relacionam uma saída com uma entrada com base em dados rotulados. Neste caso, o usuário alimenta ao algoritmo pares de entradas e saídas conhecidos\n",
    "- Ele infere uma função a partir de dados de treinamento rotulados consistindo de um conjunto de exemplos de treinamento."
   ]
  },
  {
   "cell_type": "markdown",
   "metadata": {},
   "source": [
    "* `Não Supervisionada`\n",
    "- Na aprendizagem não-supervisionada o programa encontra automaticamente padrões e relações em um conjunto de dados.\n",
    "- Analisa `automaticamente` os dados (associação, agrupamento)\n",
    "- Necessita análise para determinar o significado dos padrões encontrados\n",
    "- O algoritmo descobre os padrões sozinho, sem supervisão (sem ser ensinado)"
   ]
  },
  {
   "cell_type": "markdown",
   "metadata": {},
   "source": [
    "* `Aprendizagem por Reforço`\n",
    "- Aprende com as interações com o ambiente (causa e efeito)\n",
    "- Aprende com sua própria experiência"
   ]
  },
  {
   "cell_type": "markdown",
   "metadata": {},
   "source": [
    "##################################################################"
   ]
  },
  {
   "cell_type": "markdown",
   "metadata": {},
   "source": [
    "# Classificação\n",
    "\n",
    "- Cada registro pertence a uma `classe` e possui um conjunto de atributos previsores\n",
    "- Objetivo: descobrir um relacionamento entre os atributos previsores e o atributo meta\n",
    "- O valor do atributo meta é conhecido, pois se trata de `aprendizagem supervisionada`\n",
    "- Teremos atributos previsores para chegar numa determinada classe/meta. O algoritmo tenta encontrar a correlação entre os atributos previsores para definir a classe/meta de um registro.\n",
    "- Atributos previsores = variáveis independentes\n",
    "- Atributo meta = variável dependente\n",
    "\n",
    "* Representação da Classificação\n",
    "\n",
    "- Fase 1: Conjunto de exemplos (atributos previsores + atributo meta) → sistema de aprendizado → `classificador`\n",
    "- Fase 2: Caso a ser classificado (atributo meta não conhecido) → `classificador` → Decisão"
   ]
  },
  {
   "cell_type": "markdown",
   "metadata": {},
   "source": []
  }
 ],
 "metadata": {
  "kernelspec": {
   "display_name": "Python 3.9.1 64-bit",
   "language": "python",
   "name": "python3"
  },
  "language_info": {
   "name": "python",
   "version": "3.9.1"
  },
  "orig_nbformat": 4,
  "vscode": {
   "interpreter": {
    "hash": "a590321cf065e4ba3627182a710d1fec05cf87c0ee9fe3c67341e46600c6f479"
   }
  }
 },
 "nbformat": 4,
 "nbformat_minor": 2
}
